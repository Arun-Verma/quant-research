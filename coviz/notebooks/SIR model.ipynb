{
 "cells": [
  {
   "cell_type": "markdown",
   "metadata": {},
   "source": [
    "### SIR Model"
   ]
  },
  {
   "cell_type": "code",
   "execution_count": null,
   "metadata": {},
   "outputs": [],
   "source": [
    "import numpy as np\n",
    "from scipy.integrate import odeint\n",
    "from ipywidgets import *\n",
    "from bqplot import *"
   ]
  },
  {
   "cell_type": "code",
   "execution_count": null,
   "metadata": {},
   "outputs": [],
   "source": [
    "def SIR_model(S0, I0, R0, beta, gamma, mu, N0, T):\n",
    "    t = np.arange(0, T + 0.1, 0.1)\n",
    "\n",
    "    def deriv(y, t, beta, gamma, mu):\n",
    "        S, I, R = y\n",
    "        dSdt = -beta * S * I / N0\n",
    "        dIdt = beta * S * I / N0 - gamma * I - mu * I\n",
    "        dRdt = gamma * I\n",
    "\n",
    "        return dSdt, dIdt, dRdt\n",
    "\n",
    "    y0 = S0, I0, R0\n",
    "    S, I, R = odeint(deriv, y0, t, args=(beta, gamma, mu)).T\n",
    "    return S, I, R, N0 - np.sum([S, I, R], axis=0)"
   ]
  },
  {
   "cell_type": "code",
   "execution_count": null,
   "metadata": {},
   "outputs": [],
   "source": [
    "N0 = 100\n",
    "T = 50\n",
    "I0 = 1\n",
    "R0 = 0\n",
    "D0 = 0\n",
    "S0 = N0 - I0 - R0 - D0\n",
    "beta = 0.5\n",
    "gamma = 0.2\n",
    "mu = 0.01\n",
    "S, I, R, D = SIR_model(S0, I0, R0, beta, gamma, mu, N0, T)"
   ]
  },
  {
   "cell_type": "code",
   "execution_count": null,
   "metadata": {},
   "outputs": [],
   "source": [
    "style = {\"description_width\": \"initial\"}\n",
    "I0_slider = IntSlider(\n",
    "    description=\"#Infected (at t=0)\", value=I0, min=0, max=N0, step=1, style=style\n",
    ")\n",
    "beta_slider = FloatSlider(\n",
    "    description=\"&beta;\", value=beta, min=0, max=10.0, step=0.01, style=style\n",
    ")\n",
    "mu_slider = FloatSlider(\n",
    "    description=\"&mu;\", value=mu, min=0, max=0.5, step=0.01, style=style\n",
    ")\n",
    "gamma_slider = FloatSlider(\n",
    "    description=\"&gamma;\", value=gamma, min=0, max=10.0, step=0.01, style=style\n",
    ")"
   ]
  },
  {
   "cell_type": "code",
   "execution_count": null,
   "metadata": {},
   "outputs": [],
   "source": [
    "title = r\"SIR dynamic with N = 100, Beta = {0:0.2f}, Gamma = {1:0.2f}, Mu = {2:0.2f}, R0 = {3:0.2f}\"\n",
    "title2 = r\"SIR dynamic with N = 100, Beta = {0:0.2f}, Gamma = {1:0.2f}, Mu = {2:0.2f}, R0 = +infinity\"\n",
    "sc_y = LinearScale(min=0, max=100, label=\"Days\")\n",
    "sc_t = LinearScale(min=0, max=T, label=\"Number\")\n",
    "ax_t = Axis(scale=sc_t, label=\"Days\", grid_lines=\"none\")\n",
    "ax_y = Axis(scale=sc_y, label=\"Number\", orientation=\"vertical\")\n",
    "fig_model = Figure(\n",
    "    title=title.format(beta, gamma, mu, beta / (gamma + mu)),\n",
    "    animation_duration=1000,\n",
    "    axes=[ax_t, ax_y],\n",
    ")\n",
    "mark_mod = Lines(\n",
    "    labels=[\n",
    "        \"Susceptible\",\n",
    "        \"Infected\",\n",
    "        \"Recovered\",\n",
    "        \"Deaths\",\n",
    "        \"Cumulative Nbr of Infected\",\n",
    "    ],\n",
    "    colors=[\"gray\", \"orange\", \"green\", \"red\", \"dodgerblue\"],\n",
    "    display_legend=True,\n",
    "    stroke_width=3,\n",
    "    scales={\"x\": sc_t, \"y\": sc_y},\n",
    ")\n",
    "mark_mod.x = np.arange(0, T + 0.1, 0.1)\n",
    "mark_mod.y = [S, I, R, D, N0 - S]\n",
    "fig_model.marks = [mark_mod]\n",
    "fig_model.layout.width = \"700px\"\n",
    "fig_model.layout.height = \"700px\""
   ]
  },
  {
   "cell_type": "code",
   "execution_count": null,
   "metadata": {},
   "outputs": [],
   "source": [
    "table_tmpl_SIR = \\\n",
    "    \"\"\"\n",
    "<table width=\"400px\">\n",
    "<caption align=\"center\">Parameters</caption>\n",
    "<tr>\n",
    "    <td style=\"font-weight: bold\", width =\"350px\">Initial Population</td>\n",
    "    <td align=\"right\", width =\"50px\">{0:d}</td>\n",
    "</tr>\n",
    "<tr>\n",
    "    <td style=\"font-weight: bold\">Initial number of cases</td>\n",
    "    <td align=\"right\">{1:d}</td>\n",
    "</tr>\n",
    "<tr>\n",
    "    <td style=\"font-weight: bold\">Initial number of recovered</td>\n",
    "    <td align=\"right\">{2:d}</td>\n",
    "</tr>\n",
    "<tr>\n",
    "    <td style=\"font-weight: bold\">Initial number of deaths</td>\n",
    "    <td align=\"right\">{3:d}</td>\n",
    "</tr>\n",
    "<tr>\n",
    "    <td style=\"font-weight: bold\"> (&beta;) Infection Rate</td>\n",
    "    <td align=\"right\">{4:.2f}</td>\n",
    "</tr>\n",
    "<tr>\n",
    "    <td style=\"font-weight: bold\"> (&gamma;) Recovery Rate</td>\n",
    "    <td align=\"right\">{5:.2f}</td>\n",
    "</tr>\n",
    "<tr>\n",
    "    <td style=\"font-weight: bold\"> (&mu;) Death Rate</td>\n",
    "    <td align=\"right\">{6:.2f}</td>\n",
    "</tr>\n",
    "</table>\n",
    "\"\"\"\n",
    "\n",
    "stats_table1 = HTML()\n",
    "stats_table1.value = table_tmpl_SIR.format(N0, I0, R0, D0, beta, gamma, mu)\n",
    "stats_table1.layout.width = '600px'"
   ]
  },
  {
   "cell_type": "code",
   "execution_count": null,
   "metadata": {},
   "outputs": [],
   "source": [
    "def update_mod(*args):\n",
    "    global N0, D0, R0, T\n",
    "    I0 = I0_slider.value\n",
    "    S0 = N0 - I0 - R0 - D0\n",
    "    beta = beta_slider.value\n",
    "    mu = mu_slider.value\n",
    "    gamma = gamma_slider.value\n",
    "    res = SIR_model(S0, I0, R0, beta, gamma, mu, N0, T)\n",
    "    stats_table1.value = table_tmpl_SIR.format(N0, I0, R0, D0, beta, gamma, mu)\n",
    "    mark_mod.y = [res[0], res[1], res[2], res[3], N0 - res[0]]\n",
    "    if gamma + mu < 1e-10:\n",
    "        fig_model.title = title2.format(beta, gamma, mu)\n",
    "    else:\n",
    "        fig_model.title = title.format(beta, gamma, mu, beta / (gamma + mu))\n",
    "\n",
    "\n",
    "I0_slider.observe(update_mod, \"value\")\n",
    "I0_slider.continuous_update = False\n",
    "I0_slider.layout.width = \"400px\"\n",
    "beta_slider.observe(update_mod, \"value\")\n",
    "beta_slider.continuous_update = False\n",
    "beta_slider.layout.width = \"400px\"\n",
    "mu_slider.observe(update_mod, \"value\")\n",
    "mu_slider.continuous_update = False\n",
    "mu_slider.layout.width = \"400px\"\n",
    "gamma_slider.observe(update_mod, \"value\")\n",
    "gamma_slider.continuous_update = False\n",
    "gamma_slider.layout.width = \"400px\""
   ]
  },
  {
   "cell_type": "markdown",
   "metadata": {},
   "source": [
    "Deterministic SIR model with 4 different states :\n",
    "- Susceptible (not infected by the virus)\n",
    "- Infected\n",
    "- Recovered or cured\n",
    "- Dead\n",
    "\n",
    "SIR model is described by a system of ODEs which gives the number of people at time t in each state."
   ]
  },
  {
   "cell_type": "markdown",
   "metadata": {},
   "source": [
    "$\\frac{dS}{dt} = -\\frac{\\beta S I}{N}$\n",
    "\n",
    "$\\frac{dI}{dt} = \\frac{\\beta S I}{N} - (\\mu + \\gamma) I$\n",
    "\n",
    "$\\frac{dR}{dt} = \\gamma I$\n",
    "\n",
    "$\\frac{dD}{dt} = \\mu I$"
   ]
  },
  {
   "cell_type": "markdown",
   "metadata": {},
   "source": [
    "- $\\beta$ is the transition rate from S to I\n",
    "- $\\gamma$ is the recovery rate or the transition rate from I to R\n",
    "- $\\mu$ is the death rate or the transition rate from I to D\n",
    "\n",
    "We suppose here that the population N is constant."
   ]
  },
  {
   "cell_type": "markdown",
   "metadata": {},
   "source": [
    "$R_0$ of an infection can be thought of as the expected number of cases directly generated by one case in a population where all individuals are susceptible to infection.\n",
    "\n",
    "In this model $R_0 = \\frac{\\beta}{\\mu + \\gamma}$. The maximum of number of infected $I_{max}$ and the final number of infected $N-S_{\\infty}$ depends only $R_0$ and $N$. If $R_0>1$ a virus outbreak will occur."
   ]
  },
  {
   "cell_type": "markdown",
   "metadata": {},
   "source": [
    "When it exists $I_{max}=S_0+I_0 - \\frac{N}{R_0} (1 -\\log{\\frac{N}{S_0 R_0}}) \\approx N - \\frac{N}{R_0}(1 +\\log{R_0})$"
   ]
  },
  {
   "cell_type": "markdown",
   "metadata": {},
   "source": [
    "$S_{\\infty}$ is the unique root in $]0,  \\frac{N}{R_0}[$ of the equation :\n",
    "$0=N - S_{\\infty} + \\frac{N}{R_0} \\log{\\frac{S_{\\infty}}{N-1}}$"
   ]
  },
  {
   "cell_type": "code",
   "execution_count": null,
   "metadata": {},
   "outputs": [],
   "source": [
    "HBox([fig_model, VBox([I0_slider, beta_slider, gamma_slider, mu_slider, stats_table1])])"
   ]
  }
 ],
 "metadata": {
  "kernelspec": {
   "display_name": "Python 3",
   "language": "python",
   "name": "python3"
  },
  "language_info": {
   "codemirror_mode": {
    "name": "ipython",
    "version": 3
   },
   "file_extension": ".py",
   "mimetype": "text/x-python",
   "name": "python",
   "nbconvert_exporter": "python",
   "pygments_lexer": "ipython3",
   "version": "3.7.6"
  }
 },
 "nbformat": 4,
 "nbformat_minor": 4
}
